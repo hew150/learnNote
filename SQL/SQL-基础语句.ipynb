{
 "cells": [
  {
   "cell_type": "markdown",
   "id": "specialized-arlington",
   "metadata": {},
   "source": [
    "# SQL基础语句"
   ]
  },
  {
   "cell_type": "markdown",
   "id": "imperial-camel",
   "metadata": {},
   "source": [
    "## select 选取"
   ]
  },
  {
   "cell_type": "markdown",
   "id": "handmade-contact",
   "metadata": {},
   "source": [
    "```sql\n",
    "---单列---\n",
    "SELECT <列名>\n",
    "FROM <表名>;\n",
    "---多列---\n",
    "SELECT <列名>,<列名>\n",
    "FROM <表名>;\n",
    "---全列---\n",
    "SELECT *\n",
    "FROM <表名>;\n",
    "```"
   ]
  },
  {
   "cell_type": "markdown",
   "id": "cosmetic-surveillance",
   "metadata": {},
   "source": [
    "## ORDRE BY 排序检索"
   ]
  },
  {
   "cell_type": "markdown",
   "id": "measured-daniel",
   "metadata": {},
   "source": [
    "``` sql\n",
    "---单列---\n",
    "SELECT <列名A>\n",
    "FROM <表名>\n",
    "ORDER BY <列名B>;\n",
    "---多列---\n",
    "SELECT <列名A>...\n",
    "FROM <表名>\n",
    "ORDER BY <列名B>，<列名C>;\n",
    "\n",
    "```\n",
    "注：\n",
    "- 列B与A可同可不同\n",
    "- order by 需在语句最后\n",
    "- 多列排序按order by 中前后顺序"
   ]
  },
  {
   "cell_type": "code",
   "execution_count": null,
   "id": "pregnant-pharmacology",
   "metadata": {},
   "outputs": [],
   "source": []
  }
 ],
 "metadata": {
  "kernelspec": {
   "display_name": "Python 3",
   "language": "python",
   "name": "python3"
  },
  "language_info": {
   "codemirror_mode": {
    "name": "ipython",
    "version": 3
   },
   "file_extension": ".py",
   "mimetype": "text/x-python",
   "name": "python",
   "nbconvert_exporter": "python",
   "pygments_lexer": "ipython3",
   "version": "3.8.5"
  }
 },
 "nbformat": 4,
 "nbformat_minor": 5
}
