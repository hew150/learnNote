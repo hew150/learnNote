{
 "cells": [
  {
   "cell_type": "markdown",
   "id": "attached-allah",
   "metadata": {},
   "source": [
    "# Task1 整理--异常处理"
   ]
  },
  {
   "cell_type": "markdown",
   "id": "better-hayes",
   "metadata": {},
   "source": [
    "- 异常处理\n",
    "    - Python 标准异常总结\n",
    "    - Python 标准警告总结\n",
    "    - try - except 语句\n",
    "    - try - except - finally 语句\n",
    "    - try - except - else 语句\n",
    "    - raise语句"
   ]
  },
  {
   "cell_type": "markdown",
   "id": "static-bicycle",
   "metadata": {},
   "source": [
    "\n",
    "\n",
    "# 异常处理\n",
    "\n",
    "异常就是运行期检测到的错误。计算机语言针对可能出现的错误定义了异常类型，某种错误引发对应的异常时，异常处理程序将被启动，从而恢复程序的正常运行。"
   ]
  },
  {
   "cell_type": "markdown",
   "id": "monthly-berkeley",
   "metadata": {},
   "source": [
    "## 1. Python 标准异常总结\n",
    "\n",
    "- BaseException：所有异常的 **基类**\n",
    "- Exception：常规异常的 **基类**\n",
    "- StandardError：所有的内建标准异常的基类\n",
    "- ArithmeticError：所有数值计算异常的基类\n",
    "- FloatingPointError：浮点计算异常\n",
    "- <u>OverflowError</u>：数值运算超出最大限制\n",
    "- <u>ZeroDivisionError</u>：除数为零\n",
    "- <u>AssertionError</u>：断言语句（assert）失败\n",
    "- <u>AttributeError</u>：尝试访问未知的对象属性\n",
    "- EOFError：没有内建输入，到达EOF标记\n",
    "- EnvironmentError：操作系统异常的基类\n",
    "- IOError：输入/输出操作失败\n",
    "- <u>OSError</u>：操作系统产生的异常（例如打开一个不存在的文件）\n",
    "- WindowsError：系统调用失败\n",
    "- <u>ImportError</u>：导入模块失败的时候\n",
    "- KeyboardInterrupt：用户中断执行\n",
    "- LookupError：无效数据查询的基类\n",
    "- <u>IndexError</u>：索引超出序列的范围\n",
    "- <u>KeyError</u>：字典中查找一个不存在的关键字\n",
    "- <u>MemoryError</u>：内存溢出（可通过删除对象释放内存）\n",
    "- <u>NameError</u>：尝试访问一个不存在的变量\n",
    "- UnboundLocalError：访问未初始化的本地变量\n",
    "- ReferenceError：弱引用试图访问已经垃圾回收了的对象\n",
    "- RuntimeError：一般的运行时异常\n",
    "- NotImplementedError：尚未实现的方法\n",
    "- <u>SyntaxError</u>：语法错误导致的异常\n",
    "- IndentationError：缩进错误导致的异常\n",
    "- TabError：Tab和空格混用\n",
    "- SystemError：一般的解释器系统异常\n",
    "- <u>TypeError</u>：不同类型间的无效操作\n",
    "- <u>ValueError</u>：传入无效的参数\n",
    "- UnicodeError：Unicode相关的异常\n",
    "- UnicodeDecodeError：Unicode解码时的异常\n",
    "- UnicodeEncodeError：Unicode编码错误导致的异常\n",
    "- UnicodeTranslateError：Unicode转换错误导致的异常\n",
    "\n",
    "异常体系内部有层次关系，Python异常体系中的部分关系如下所示：\n",
    "\n",
    "\n",
    "![](https://img-blog.csdnimg.cn/20200710131404548.png)"
   ]
  },
  {
   "cell_type": "markdown",
   "id": "pressing-vegetation",
   "metadata": {},
   "source": [
    "---\n",
    "## 2. Python标准警告总结\n",
    "\n",
    "- Warning：警告的基类\n",
    "- DeprecationWarning：关于被弃用的特征的警告\n",
    "- FutureWarning：关于构造将来语义会有改变的警告\n",
    "- UserWarning：用户代码生成的警告\n",
    "- PendingDeprecationWarning：关于特性将会被废弃的警告\n",
    "- RuntimeWarning：可疑的运行时行为(runtime behavior)的警告\n",
    "- SyntaxWarning：可疑语法的警告\n",
    "- ImportWarning：用于在导入模块过程中触发的警告\n",
    "- UnicodeWarning：与Unicode相关的警告\n",
    "- BytesWarning：与字节或字节码相关的警告\n",
    "- ResourceWarning：与资源使用相关的警告"
   ]
  },
  {
   "cell_type": "markdown",
   "id": "solved-miniature",
   "metadata": {},
   "source": [
    "---\n",
    "## 3. try - except 语句\n",
    "```python\n",
    "try:\n",
    "    检测范围\n",
    "except Exception[as reason]:\n",
    "    出现异常后的处理代码\n",
    "```\n",
    "\n",
    "try 语句按照如下方式工作：\n",
    "- 首先，执行`try`子句（在关键字`try`和关键字`except`之间的语句）\n",
    "- 如果没有异常发生，忽略`except`子句，`try`子句执行后结束。\n",
    "- 如果在执行`try`子句的过程中发生了异常，那么`try`子句余下的部分将被忽略。如果异常的类型和`except`之后的名称相符，那么对应的`except`子句将被执行。最后执行`try - except`语句之后的代码。\n",
    "- 如果一个异常没有与任何的`except`匹配，那么这个异常将会传递给上层的`try`中。\n"
   ]
  },
  {
   "cell_type": "code",
   "execution_count": 2,
   "id": "prompt-region",
   "metadata": {},
   "outputs": [
    {
     "name": "stdout",
     "output_type": "stream",
     "text": [
      "打开文件出错\n"
     ]
    }
   ],
   "source": [
    "try:\n",
    "    f = open('test.txt')\n",
    "    print(f.read())\n",
    "    f.close()\n",
    "except OSError:\n",
    "    print('打开文件出错')\n",
    "\n",
    "# 打开文件出错"
   ]
  },
  {
   "cell_type": "code",
   "execution_count": 3,
   "id": "smart-salem",
   "metadata": {},
   "outputs": [
    {
     "name": "stdout",
     "output_type": "stream",
     "text": [
      "打开文件出错\n",
      "原因是：[Errno 2] No such file or directory: 'test.txt'\n"
     ]
    }
   ],
   "source": [
    "try:\n",
    "    f = open('test.txt')\n",
    "    print(f.read())\n",
    "    f.close()\n",
    "except OSError as error:\n",
    "    print('打开文件出错\\n原因是：' + str(error))\n",
    "\n",
    "# 打开文件出错\n",
    "# 原因是：[Errno 2] No such file or directory: 'test.txt'"
   ]
  },
  {
   "cell_type": "markdown",
   "id": "geographic-elevation",
   "metadata": {},
   "source": [
    "\n",
    "一个try语句可能包含多个except子句，分别来处理不同的特定的异常。最多只有一个分支会被执行。"
   ]
  },
  {
   "cell_type": "code",
   "execution_count": 4,
   "id": "working-trigger",
   "metadata": {},
   "outputs": [
    {
     "name": "stdout",
     "output_type": "stream",
     "text": [
      "数值出错\n",
      "原因是：invalid literal for int() with base 10: 'abc'\n"
     ]
    }
   ],
   "source": [
    "try:\n",
    "    int(\"abc\")\n",
    "    s = 1 + '1'\n",
    "    f = open('test.txt')\n",
    "    print(f.read())\n",
    "    f.close()\n",
    "except OSError as error:\n",
    "    print('打开文件出错\\n原因是：' + str(error))\n",
    "except TypeError as error:\n",
    "    print('类型出错\\n原因是：' + str(error))\n",
    "except ValueError as error:\n",
    "    print('数值出错\\n原因是：' + str(error))\n",
    "\n",
    "# 数值出错\n",
    "# 原因是：invalid literal for int() with base 10: 'abc'"
   ]
  },
  {
   "cell_type": "code",
   "execution_count": 12,
   "id": "quick-tyler",
   "metadata": {},
   "outputs": [
    {
     "name": "stdout",
     "output_type": "stream",
     "text": [
      "查询错误\n"
     ]
    }
   ],
   "source": [
    "dict1 = {'a': 1, 'b': 2, 'v': 22}\n",
    "try:\n",
    "    x = dict1['y']\n",
    "except LookupError:\n",
    "    print('查询错误')\n",
    "except KeyError:\n",
    "    print('键错误')\n",
    "else:\n",
    "    print(x)\n",
    "\n",
    "# 查询错误"
   ]
  },
  {
   "cell_type": "markdown",
   "id": "spoken-bridge",
   "metadata": {},
   "source": [
    "\n",
    "try-except-else语句尝试查询不在dict中的键值对，从而引发了异常。这一异常准确地说应属于KeyError，但由于KeyError是LookupError的子类，且将LookupError置于KeyError之前，因此程序优先执行该except代码块。所以，使用多个except代码块时，必须坚持对其规范排序，要从最具针对性的异常到最通用的异常。"
   ]
  },
  {
   "cell_type": "code",
   "execution_count": 11,
   "id": "aggregate-particular",
   "metadata": {},
   "outputs": [
    {
     "name": "stdout",
     "output_type": "stream",
     "text": [
      "键错误\n"
     ]
    }
   ],
   "source": [
    "dict1 = {'a': 1, 'b': 2, 'v': 22}\n",
    "try:\n",
    "    x = dict1['y']\n",
    "except KeyError:\n",
    "    print('键错误')\n",
    "except LookupError:\n",
    "    print('查询错误')\n",
    "else:\n",
    "    print(x)\n",
    "\n",
    "# 键错误"
   ]
  },
  {
   "cell_type": "code",
   "execution_count": 13,
   "id": "designed-simon",
   "metadata": {},
   "outputs": [
    {
     "name": "stdout",
     "output_type": "stream",
     "text": [
      "出错了！\n",
      "原因是：unsupported operand type(s) for +: 'int' and 'str'\n"
     ]
    }
   ],
   "source": [
    "try:\n",
    "    s = 1 + '1'\n",
    "    int(\"abc\")\n",
    "    f = open('test.txt')\n",
    "    print(f.read())\n",
    "    f.close()\n",
    "except (OSError, TypeError, ValueError) as error:\n",
    "    print('出错了！\\n原因是：' + str(error))\n",
    "\n",
    "# 出错了！\n",
    "# 原因是：unsupported operand type(s) for +: 'int' and 'str'"
   ]
  },
  {
   "cell_type": "markdown",
   "id": "executive-sheep",
   "metadata": {},
   "source": [
    "\n",
    "---\n",
    "## 4. try - except - finally 语句\n",
    "try:\n",
    "    检测范围\n",
    "except Exception[as reason]:\n",
    "    出现异常后的处理代码\n",
    "finally:\n",
    "    无论如何都会被执行的代码\n",
    "\n",
    "不管`try`子句里面有没有发生异常，`finally`子句都会执行。\n",
    "\n",
    "\n",
    "\n",
    "【例子】如果一个异常在`try`子句里被抛出，而又没有任何的`except`把它截住，那么这个异常会在`finally`子句执行后被抛出。"
   ]
  },
  {
   "cell_type": "code",
   "execution_count": 14,
   "id": "reduced-kelly",
   "metadata": {},
   "outputs": [
    {
     "name": "stdout",
     "output_type": "stream",
     "text": [
      "result is 2.0\n",
      "executing finally clause\n",
      "division by zero!\n",
      "executing finally clause\n",
      "executing finally clause\n"
     ]
    },
    {
     "ename": "TypeError",
     "evalue": "unsupported operand type(s) for /: 'str' and 'str'",
     "output_type": "error",
     "traceback": [
      "\u001b[1;31m---------------------------------------------------------------------------\u001b[0m",
      "\u001b[1;31mTypeError\u001b[0m                                 Traceback (most recent call last)",
      "\u001b[1;32m<ipython-input-14-16805cf48925>\u001b[0m in \u001b[0;36m<module>\u001b[1;34m\u001b[0m\n\u001b[0;32m     15\u001b[0m \u001b[1;31m# division by zero!\u001b[0m\u001b[1;33m\u001b[0m\u001b[1;33m\u001b[0m\u001b[1;33m\u001b[0m\u001b[0m\n\u001b[0;32m     16\u001b[0m \u001b[1;31m# executing finally clause\u001b[0m\u001b[1;33m\u001b[0m\u001b[1;33m\u001b[0m\u001b[1;33m\u001b[0m\u001b[0m\n\u001b[1;32m---> 17\u001b[1;33m \u001b[0mdivide\u001b[0m\u001b[1;33m(\u001b[0m\u001b[1;34m\"2\"\u001b[0m\u001b[1;33m,\u001b[0m \u001b[1;34m\"1\"\u001b[0m\u001b[1;33m)\u001b[0m\u001b[1;33m\u001b[0m\u001b[1;33m\u001b[0m\u001b[0m\n\u001b[0m\u001b[0;32m     18\u001b[0m \u001b[1;31m# executing finally clause\u001b[0m\u001b[1;33m\u001b[0m\u001b[1;33m\u001b[0m\u001b[1;33m\u001b[0m\u001b[0m\n\u001b[0;32m     19\u001b[0m \u001b[1;31m# TypeError: unsupported operand type(s) for /: 'str' and 'str'\u001b[0m\u001b[1;33m\u001b[0m\u001b[1;33m\u001b[0m\u001b[1;33m\u001b[0m\u001b[0m\n",
      "\u001b[1;32m<ipython-input-14-16805cf48925>\u001b[0m in \u001b[0;36mdivide\u001b[1;34m(x, y)\u001b[0m\n\u001b[0;32m      1\u001b[0m \u001b[1;32mdef\u001b[0m \u001b[0mdivide\u001b[0m\u001b[1;33m(\u001b[0m\u001b[0mx\u001b[0m\u001b[1;33m,\u001b[0m \u001b[0my\u001b[0m\u001b[1;33m)\u001b[0m\u001b[1;33m:\u001b[0m\u001b[1;33m\u001b[0m\u001b[1;33m\u001b[0m\u001b[0m\n\u001b[0;32m      2\u001b[0m     \u001b[1;32mtry\u001b[0m\u001b[1;33m:\u001b[0m\u001b[1;33m\u001b[0m\u001b[1;33m\u001b[0m\u001b[0m\n\u001b[1;32m----> 3\u001b[1;33m         \u001b[0mresult\u001b[0m \u001b[1;33m=\u001b[0m \u001b[0mx\u001b[0m \u001b[1;33m/\u001b[0m \u001b[0my\u001b[0m\u001b[1;33m\u001b[0m\u001b[1;33m\u001b[0m\u001b[0m\n\u001b[0m\u001b[0;32m      4\u001b[0m         \u001b[0mprint\u001b[0m\u001b[1;33m(\u001b[0m\u001b[1;34m\"result is\"\u001b[0m\u001b[1;33m,\u001b[0m \u001b[0mresult\u001b[0m\u001b[1;33m)\u001b[0m\u001b[1;33m\u001b[0m\u001b[1;33m\u001b[0m\u001b[0m\n\u001b[0;32m      5\u001b[0m     \u001b[1;32mexcept\u001b[0m \u001b[0mZeroDivisionError\u001b[0m\u001b[1;33m:\u001b[0m\u001b[1;33m\u001b[0m\u001b[1;33m\u001b[0m\u001b[0m\n",
      "\u001b[1;31mTypeError\u001b[0m: unsupported operand type(s) for /: 'str' and 'str'"
     ]
    }
   ],
   "source": [
    "def divide(x, y):\n",
    "    try:\n",
    "        result = x / y\n",
    "        print(\"result is\", result)\n",
    "    except ZeroDivisionError:\n",
    "        print(\"division by zero!\")\n",
    "    finally:\n",
    "        print(\"executing finally clause\")\n",
    "\n",
    "\n",
    "divide(2, 1)\n",
    "# result is 2.0\n",
    "# executing finally clause\n",
    "divide(2, 0)\n",
    "# division by zero!\n",
    "# executing finally clause\n",
    "divide(\"2\", \"1\")\n",
    "# executing finally clause\n",
    "# TypeError: unsupported operand type(s) for /: 'str' and 'str'"
   ]
  },
  {
   "cell_type": "markdown",
   "id": "plain-conclusion",
   "metadata": {},
   "source": [
    "\n",
    "---\n",
    "## 5. try - except - else 语句\n",
    "\n",
    "如果在`try`子句执行时没有发生异常，Python将执行`else`语句后的语句。\n",
    "\n",
    "```python\n",
    "try:\n",
    "    检测范围\n",
    "except:\n",
    "    出现异常后的处理代码\n",
    "else:\n",
    "    如果没有异常执行这块代码\n",
    "```\n",
    "\n",
    "使用`except`而不带任何异常类型，这不是一个很好的方式，我们不能通过该程序识别出具体的异常信息，因为它捕获所有的异常。\n",
    "\n",
    "try:\n",
    "    检测范围\n",
    "except(Exception1[, Exception2[,...ExceptionN]]]):\n",
    "   发生以上多个异常中的一个，执行这块代码\n",
    "else:\n",
    "    如果没有异常执行这块代码\n",
    "    \n",
    "【例子】\n"
   ]
  },
  {
   "cell_type": "code",
   "execution_count": 15,
   "id": "provincial-burden",
   "metadata": {},
   "outputs": [
    {
     "name": "stdout",
     "output_type": "stream",
     "text": [
      "内容写入文件成功\n"
     ]
    }
   ],
   "source": [
    "try:\n",
    "    fh = open(\"testfile.txt\", \"w\")\n",
    "    fh.write(\"这是一个测试文件，用于测试异常!!\")\n",
    "except IOError:\n",
    "    print(\"Error: 没有找到文件或读取文件失败\")\n",
    "else:\n",
    "    print(\"内容写入文件成功\")\n",
    "    fh.close()\n",
    "\n",
    "# 内容写入文件成功"
   ]
  },
  {
   "cell_type": "markdown",
   "id": "advance-galaxy",
   "metadata": {},
   "source": [
    "\n",
    "注意：else语句的存在必须以except语句的存在为前提，在没有except语句的try语句中使用else语句，会引发语法错误。"
   ]
  },
  {
   "cell_type": "markdown",
   "id": "threaded-professor",
   "metadata": {},
   "source": [
    "---\n",
    "## 6. raise语句\n",
    "\n",
    "Python 使用`raise`语句抛出一个指定的异常。"
   ]
  },
  {
   "cell_type": "code",
   "execution_count": 18,
   "id": "resistant-viking",
   "metadata": {},
   "outputs": [
    {
     "name": "stdout",
     "output_type": "stream",
     "text": [
      "An exception flew by! HiThere\n"
     ]
    }
   ],
   "source": [
    "try:\n",
    "    raise NameError('HiThere')\n",
    "except NameError as err:\n",
    "    print('An exception flew by!',err)\n",
    "    \n",
    "# An exception flew by!"
   ]
  },
  {
   "cell_type": "code",
   "execution_count": null,
   "id": "decent-bouquet",
   "metadata": {},
   "outputs": [],
   "source": []
  }
 ],
 "metadata": {
  "kernelspec": {
   "display_name": "Python 3",
   "language": "python",
   "name": "python3"
  },
  "language_info": {
   "codemirror_mode": {
    "name": "ipython",
    "version": 3
   },
   "file_extension": ".py",
   "mimetype": "text/x-python",
   "name": "python",
   "nbconvert_exporter": "python",
   "pygments_lexer": "ipython3",
   "version": "3.8.5"
  }
 },
 "nbformat": 4,
 "nbformat_minor": 5
}
