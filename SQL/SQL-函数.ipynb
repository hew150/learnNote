{
 "cells": [
  {
   "cell_type": "markdown",
   "id": "thermal-meditation",
   "metadata": {},
   "source": [
    "# SQL函数"
   ]
  },
  {
   "cell_type": "markdown",
   "id": "formed-honolulu",
   "metadata": {},
   "source": [
    "## 文本处理函数"
   ]
  },
  {
   "cell_type": "markdown",
   "id": "modified-advocacy",
   "metadata": {},
   "source": [
    "| 函数   |        功能|\n",
    "|:--------|:--------------:|\n",
    "|RTRIM()  |去除列值右边空格|\n",
    "|LTRIM()  |去除列值左边空格|\n",
    "|LEFT()   |返回串左边字符|\n",
    "|RIGHT()  |返回串左边字符|\n",
    "|LENGTH() |返回串的长度|\n",
    "|LOWER()  |将串转换为小写|\n",
    "|UPPER()  |将串转换为大写|\n",
    "|SOUNDEX()|返回串的SOUNDEX值|"
   ]
  },
  {
   "cell_type": "markdown",
   "id": "typical-april",
   "metadata": {},
   "source": [
    "## 时间和日期处理函数"
   ]
  },
  {
   "cell_type": "markdown",
   "id": "mechanical-ferry",
   "metadata": {},
   "source": []
  },
  {
   "cell_type": "markdown",
   "id": "positive-accommodation",
   "metadata": {},
   "source": []
  },
  {
   "cell_type": "markdown",
   "id": "spanish-quantity",
   "metadata": {},
   "source": []
  },
  {
   "cell_type": "markdown",
   "id": "announced-blackjack",
   "metadata": {},
   "source": []
  }
 ],
 "metadata": {
  "kernelspec": {
   "display_name": "Python 3",
   "language": "python",
   "name": "python3"
  },
  "language_info": {
   "codemirror_mode": {
    "name": "ipython",
    "version": 3
   },
   "file_extension": ".py",
   "mimetype": "text/x-python",
   "name": "python",
   "nbconvert_exporter": "python",
   "pygments_lexer": "ipython3",
   "version": "3.8.5"
  }
 },
 "nbformat": 4,
 "nbformat_minor": 5
}
