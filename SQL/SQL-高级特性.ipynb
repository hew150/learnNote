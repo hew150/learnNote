{
 "cells": [
  {
   "cell_type": "markdown",
   "id": "vietnamese-aside",
   "metadata": {},
   "source": [
    "# SQL-高级特性"
   ]
  },
  {
   "cell_type": "markdown",
   "id": "criminal-cradle",
   "metadata": {},
   "source": [
    "## 主键\n",
    "- 任意两行的主键值都不相同。\n",
    "- 每行都具有一个主键值（即列中不允许NULL值）。\n",
    "- 包含主键值的列不修改或更新。\n",
    "- 主键值不能重用。如果从表中删除某一行，其主键值不分配给新行\n"
   ]
  },
  {
   "cell_type": "markdown",
   "id": "substantial-finnish",
   "metadata": {},
   "source": [
    "```sql\n",
    "CREATE TABLE <表名>\n",
    "(\n",
    "  <列名A>  <存储值类型及长度> NULL/NOT NULL PRIMARY KEY,\n",
    "  <列名B>  <存储值类型及长度> NULL/NOT NULL ,\n",
    "  <列名C>   CHAR(10) NULL ,\n",
    "  <列名D>   CHAR(10) NOT NULL \n",
    ");\n",
    "```"
   ]
  },
  {
   "cell_type": "markdown",
   "id": "referenced-turkish",
   "metadata": {},
   "source": [
    "## 外键\n",
    "外键是表中的一个列， 其值必须在另一表的主键中列出。外键是保证引用完整性的一个极重要的成分。"
   ]
  },
  {
   "cell_type": "markdown",
   "id": "unexpected-webcam",
   "metadata": {},
   "source": [
    "```sql\n",
    "CREATE TABLE <表名A>\n",
    "(\n",
    "  <列名A>  <存储值类型及长度> NULL/NOT NULL PRIMARY KEY,\n",
    "  <列名B>  <存储值类型及长度> NULL/NOT NULL ,\n",
    "  <列名C>   CHAR(10) NULL ,\n",
    "  <列名D>   CHAR(10) NOT NULL REFERENCES <表B>\n",
    ");\n",
    "```\n",
    "注：<表B>中的<列名D>需为其主键"
   ]
  },
  {
   "cell_type": "markdown",
   "id": "inclusive-howard",
   "metadata": {},
   "source": [
    "## 唯一约束"
   ]
  },
  {
   "cell_type": "markdown",
   "id": "parallel-party",
   "metadata": {},
   "source": [
    "唯一约束用来保证一个列（或一组列）中的数据唯一。它们类似千主键， 但存在几个重要的区别：\n",
    "- 表可包含多个唯一约束，但每个表只允许一个主键。\n",
    "- 唯一约束列可包含NULL值。\n",
    "- 唯一约束列可修改或更新。\n",
    "- 唯一约束列的值可重复使用。\n",
    "- 与主键不一样， 唯一约束不能用来定义外键。\n"
   ]
  },
  {
   "cell_type": "markdown",
   "id": "infectious-bulletin",
   "metadata": {},
   "source": [
    "## 检查约束\n",
    "\n",
    "\n",
    "检查约束用来保证一个列（或一组列）中的数据满足一组指定的条件。检查约束的常见用途为：\n",
    "- 检查最小或最大值。例如，防止0个物品的订单（即使0是合法的数）。\n",
    "- 指定范围。例如， 保证发货日期大于等于今天的日期，井且不大于从今天开始的一年的日期。\n",
    "- 只允许特定的值。例如，在性别 字段中只允许M或F.\n",
    "```sql\n",
    "CREATE TABLE <表名A>\n",
    "(\n",
    "  <列名A>  <存储值类型及长度> NULL/NOT NULL PRIMARY KEY,\n",
    "  <列名B>  <存储值类型及长度> NULL/NOT NULL ,\n",
    "  <列名C>   CHAR(10) NULL ,\n",
    "  <列名D>   CHAR(10) NOT NULL CHECK(<列D> > 0),\n",
    "  <列名E>   CHAR(10) NULL ,\n",
    ");\n",
    "```"
   ]
  },
  {
   "cell_type": "markdown",
   "id": "agreed-opinion",
   "metadata": {},
   "source": [
    "## 索引\n",
    "```sql\n",
    "CREATE INDEX <索引名>\n",
    "ON <表名> (<索引列名>);\n",
    "```"
   ]
  },
  {
   "cell_type": "markdown",
   "id": "expired-birth",
   "metadata": {},
   "source": [
    "## 触发器\n"
   ]
  },
  {
   "cell_type": "markdown",
   "id": "casual-consideration",
   "metadata": {},
   "source": []
  },
  {
   "cell_type": "markdown",
   "id": "careful-disclosure",
   "metadata": {},
   "source": []
  },
  {
   "cell_type": "markdown",
   "id": "hidden-buddy",
   "metadata": {},
   "source": []
  },
  {
   "cell_type": "markdown",
   "id": "narrative-portrait",
   "metadata": {},
   "source": []
  },
  {
   "cell_type": "markdown",
   "id": "interstate-rebel",
   "metadata": {},
   "source": []
  },
  {
   "cell_type": "markdown",
   "id": "hourly-dress",
   "metadata": {},
   "source": []
  },
  {
   "cell_type": "markdown",
   "id": "generous-pioneer",
   "metadata": {},
   "source": []
  },
  {
   "cell_type": "markdown",
   "id": "available-softball",
   "metadata": {},
   "source": []
  }
 ],
 "metadata": {
  "kernelspec": {
   "display_name": "Python 3",
   "language": "python",
   "name": "python3"
  },
  "language_info": {
   "codemirror_mode": {
    "name": "ipython",
    "version": 3
   },
   "file_extension": ".py",
   "mimetype": "text/x-python",
   "name": "python",
   "nbconvert_exporter": "python",
   "pygments_lexer": "ipython3",
   "version": "3.8.5"
  }
 },
 "nbformat": 4,
 "nbformat_minor": 5
}
