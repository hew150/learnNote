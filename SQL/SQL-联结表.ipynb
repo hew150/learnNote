{
 "cells": [
  {
   "cell_type": "markdown",
   "id": "precise-timothy",
   "metadata": {},
   "source": [
    "## 联结表"
   ]
  },
  {
   "cell_type": "markdown",
   "id": "informational-mechanics",
   "metadata": {},
   "source": [
    "### 关系表\n",
    "关系表--信息拆分为多个表，一类数据一个表，各个表保持关联性\n",
    "### 联结\n",
    "联结:用一条SELECT语句关联表"
   ]
  },
  {
   "cell_type": "markdown",
   "id": "compliant-night",
   "metadata": {},
   "source": [
    "```sql\n",
    "---自然联结---\n",
    "SELECT <列A>,<列B>,<列C>\n",
    "FROM <表A>,<表B>\n",
    "WHERE <表A>.<列A>=<表B>.<列B>;\n",
    "---内部联结---//与自然联结相同\n",
    "SELECT <列A>,<列B>,<列C>\n",
    "FROM <表A> INNER JOIN<表B>\n",
    "   ON <表A>.<列A>=<表B>.<列B>;\n",
    "---使用表别名---\n",
    "SELECT <列A>,<列B>,<列C>\n",
    "FROM <表A> AS A,<表B> AS B\n",
    "WHERE A.<列A>=B.<列B>;\n",
    "---外部联结---//较内部联结还输出单侧（左/右）无关联项\n",
    "SELECT <列A>,<列B>,<列C>\n",
    "FROM <表A> LEFT(RIGHT) OUTER JOIN<表B>\n",
    "   ON <表A>.<列A>=<表B>.<列B>;\n",
    "---外部联结-OTHER----//\n",
    "SELECT <列A>,<列B>,<列C>\n",
    "FROM <表A> ,<表B>\n",
    "   ON <表A>.<列A> *=<表B>.<列B>;\n",
    "---全外部联结---/输出所有无关联项\n",
    "SELECT <列A>,<列B>,<列C>\n",
    "FROM <表A> FULL OUTER JOIN<表B>\n",
    "   ON <表A>.<列A>=<表B>.<列B>;   \n",
    "```"
   ]
  },
  {
   "cell_type": "markdown",
   "id": "dangerous-hollywood",
   "metadata": {},
   "source": [
    "## 组合查询"
   ]
  },
  {
   "cell_type": "markdown",
   "id": "complicated-leisure",
   "metadata": {},
   "source": [
    "```sql\n",
    "SELECT <列A>,<列B>,<列C>\n",
    "FROM <表A>\n",
    "WHERE <列A> <操作符><列B>\n",
    "UNION\n",
    "SELECT <列A>,<列B>,<列C>\n",
    "FROM <表B>\n",
    "WHERE <列A>=<列B>;   \n",
    "```\n",
    "`UNION`自动去重  \n",
    "`ALL UNION` 不去重"
   ]
  },
  {
   "cell_type": "markdown",
   "id": "opened-handbook",
   "metadata": {},
   "source": []
  },
  {
   "cell_type": "markdown",
   "id": "coastal-compound",
   "metadata": {},
   "source": []
  },
  {
   "cell_type": "markdown",
   "id": "floral-enclosure",
   "metadata": {},
   "source": []
  }
 ],
 "metadata": {
  "kernelspec": {
   "display_name": "Python 3",
   "language": "python",
   "name": "python3"
  },
  "language_info": {
   "codemirror_mode": {
    "name": "ipython",
    "version": 3
   },
   "file_extension": ".py",
   "mimetype": "text/x-python",
   "name": "python",
   "nbconvert_exporter": "python",
   "pygments_lexer": "ipython3",
   "version": "3.8.5"
  }
 },
 "nbformat": 4,
 "nbformat_minor": 5
}
