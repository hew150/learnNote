{
 "cells": [
  {
   "cell_type": "markdown",
   "id": "minute-reggae",
   "metadata": {},
   "source": [
    "# SQL-数据处理"
   ]
  },
  {
   "cell_type": "markdown",
   "id": "passive-water",
   "metadata": {},
   "source": [
    "## INSERT　插入数据"
   ]
  },
  {
   "cell_type": "markdown",
   "id": "geographic-occupation",
   "metadata": {},
   "source": [
    "```sql\n",
    "-----插入完整行通用版-----\n",
    "INSERT INTO <表A>\n",
    "VALUES(<值A>，\n",
    "     <值B>，\n",
    "     <值C>，\n",
    "     <值D>);\n",
    "-----安全版-----\n",
    "INSERT INTO <表A>(<列A>，\n",
    "     <列B>，\n",
    "     <列C>，\n",
    "     <列D>)\n",
    "VALUES(<值A>，\n",
    "     <值B>，\n",
    "     <值C>，\n",
    "     <值D>);\n",
    "-----插入部分行-----\n",
    "INSERT INTO <表A>(<列A>，\n",
    "     <列B>，\n",
    "     <列D>)\n",
    "VALUES(<值A>，\n",
    "     <值B>，\n",
    "     <值D>);\n",
    "-----插入检索出的数据-----\n",
    "INSERT INTO <表A>(<列A>，\n",
    "     <列B>，\n",
    "     <列C>，\n",
    "     <列D>)\n",
    "SELECT <列A>，\n",
    "     <列B>，\n",
    "     <列C>，\n",
    "     <列D>\n",
    "FROM <表B>;\n",
    "-----拷贝检索出的数据至新表-----\n",
    "SELECT *\n",
    "INTO <新表>\n",
    "FROM <表A>;\n",
    "```"
   ]
  },
  {
   "cell_type": "markdown",
   "id": "southeast-indication",
   "metadata": {},
   "source": [
    "## UPDATE 更新"
   ]
  },
  {
   "cell_type": "markdown",
   "id": "smoking-jason",
   "metadata": {},
   "source": [
    "```sql\n",
    "---更新行---\n",
    "UPDATE <表A>\n",
    "SET <列A> = <值>,\n",
    "   <列B> = <值>\n",
    "WHERE <列C> =<值>;\n",
    "---更新表---\n",
    "UPDATE <表A>\n",
    "SET <列A> = <值>,\n",
    "   <列B> = <值>;\n",
    "```"
   ]
  },
  {
   "cell_type": "markdown",
   "id": "damaged-observer",
   "metadata": {},
   "source": [
    "## DELETE 删除数据"
   ]
  },
  {
   "cell_type": "markdown",
   "id": "fourth-bruce",
   "metadata": {},
   "source": [
    "```sql\n",
    "---删除行---\n",
    "DELETE FROM <表A>\n",
    "WHERE <列C> =<值>;\n",
    "---删除表---\n",
    "UPDATE <表A>;\n",
    "```"
   ]
  },
  {
   "cell_type": "markdown",
   "id": "congressional-major",
   "metadata": {},
   "source": [
    "## CREATE TABLE  创建表"
   ]
  },
  {
   "cell_type": "markdown",
   "id": "dress-error",
   "metadata": {},
   "source": [
    "```sql\n",
    "CREATE TABLE <表A>\n",
    "(\n",
    "  <列A>  <字符类型及长度>  NULL/NOT NULL,\n",
    "  <列B>  <字符类型及长度>  NULL/NOT NULL,\n",
    "  <列C>  CHAR(10)        NULL,\n",
    "  <列D>  <字符类型及长度>  NOT NULL，\n",
    "  <列E>  <字符类型及长度>  NOT NULL  DEFAULT 1\n",
    ");\n",
    "```"
   ]
  },
  {
   "cell_type": "markdown",
   "id": "gentle-adaptation",
   "metadata": {},
   "source": [
    "## ALTER TABLE 更新表"
   ]
  },
  {
   "cell_type": "markdown",
   "id": "collectible-albert",
   "metadata": {},
   "source": [
    "```sql\n",
    "-------添加列-----\n",
    "ALTER TABLE <表A>\n",
    "ADD <列A>  <字符类型及长度>; \n",
    "-------删除列-----\n",
    "ALTER TABLE <表A>\n",
    "DROP COLUMN <列A>;\n",
    "```"
   ]
  },
  {
   "cell_type": "markdown",
   "id": "urban-tamil",
   "metadata": {},
   "source": [
    "## DROP TABLE 删除表"
   ]
  },
  {
   "cell_type": "markdown",
   "id": "proud-practitioner",
   "metadata": {},
   "source": [
    "```sql\n",
    "DROP TABLE <表A>;\n",
    "```"
   ]
  },
  {
   "cell_type": "markdown",
   "id": "finnish-folks",
   "metadata": {},
   "source": [
    "## 重命名表"
   ]
  },
  {
   "cell_type": "markdown",
   "id": "genuine-defendant",
   "metadata": {},
   "source": [
    "## 视图\n",
    "视图是虚拟的表，只包含使用时动态检索数据的查询。"
   ]
  },
  {
   "cell_type": "markdown",
   "id": "simplified-brunswick",
   "metadata": {},
   "source": [
    "```sql\n",
    "CREATE VIEW <视图虚拟表> AS\n",
    "SELECT <列A>, <列B> \n",
    "FROM <表A>,<表B>\n",
    "WHERE <表A>.<列A> = <表B>.<列A>;\n",
    "SELECT * \n",
    "FROM <视图虚拟表>;\n",
    "\n",
    "```"
   ]
  },
  {
   "cell_type": "markdown",
   "id": "rotary-crystal",
   "metadata": {},
   "source": [
    "## 存储过程"
   ]
  },
  {
   "cell_type": "markdown",
   "id": "dramatic-bangkok",
   "metadata": {},
   "source": []
  },
  {
   "cell_type": "markdown",
   "id": "sensitive-music",
   "metadata": {},
   "source": []
  }
 ],
 "metadata": {
  "kernelspec": {
   "display_name": "Python 3",
   "language": "python",
   "name": "python3"
  },
  "language_info": {
   "codemirror_mode": {
    "name": "ipython",
    "version": 3
   },
   "file_extension": ".py",
   "mimetype": "text/x-python",
   "name": "python",
   "nbconvert_exporter": "python",
   "pygments_lexer": "ipython3",
   "version": "3.8.5"
  }
 },
 "nbformat": 4,
 "nbformat_minor": 5
}
