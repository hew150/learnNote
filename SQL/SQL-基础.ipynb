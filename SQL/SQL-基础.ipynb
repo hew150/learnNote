{
 "cells": [
  {
   "cell_type": "markdown",
   "id": "original-refrigerator",
   "metadata": {},
   "source": [
    "# SQL-基础"
   ]
  },
  {
   "cell_type": "markdown",
   "id": "sitting-wells",
   "metadata": {},
   "source": [
    "## DDL\n",
    "DDL（Data Definition Language，数据定义语言） 用来创建或者删除存储数据用的数据库以及数据库中的表等对象。   \n",
    "DDL 包含以下几种指令。\n",
    "\n",
    "|||\n",
    "|:----:|:---:|\n",
    "|CREATE|创建数据库和表等对象|\n",
    "|DROP|删除数据库和表等对象|\n",
    "|ALTER|修改数据库和表等对象的结构|"
   ]
  },
  {
   "cell_type": "markdown",
   "id": "stuffed-transcript",
   "metadata": {},
   "source": [
    "## DML\n",
    "DML（Data Manipulation Language，数据操纵语言） 用来查询或者变更表中的记录。   \n",
    "DML 包含以下几种指令。\n",
    "\n",
    "|||\n",
    "|:----:|:---:|\n",
    "|SELECT|\t查询表中的数据|\n",
    "|INSERT|\t向表中插入新数据|\n",
    "|UPDATE|\t更新表中的数据|\n",
    "|DELETE|\t删除表中的数据|"
   ]
  },
  {
   "cell_type": "markdown",
   "id": "tutorial-amendment",
   "metadata": {},
   "source": [
    "## DCL\n",
    "DCL（Data Control Language，数据控制语言） 用来确认或者取消对数据库中的数据进行的变更。除此之外，还可以对 RDBMS 的用户是否有权限操作数据库中的对象（数据库表等）进行设定。   \n",
    "DCL 包含以下几种指令。\n",
    "\n",
    "|||\n",
    "|:----:|:---:|\n",
    "|COMMIT|\t确认对数据库中的数据进行的变更|\n",
    "|ROLLBACK|\t取消对数据库中的数据进行的变更|\n",
    "|GRANT|\t赋予用户操作权限|\n",
    "|REVOKE|\t取消用户的操作权限|"
   ]
  },
  {
   "cell_type": "markdown",
   "id": "civilian-principle",
   "metadata": {},
   "source": [
    "## SQL的基本书写规则\n",
    "\n",
    "- SQL语句要以分号（ ; ）结尾\n",
    "- SQL 不区分关键字的大小写，但是插入到表中的数据是区分大小写的\n",
    "- win 系统默认不区分表名及字段名的大小写\n",
    "- linux / mac 默认严格区分表名及字段名的大小写\n",
    "- 常数的书写方式是固定的    'abc', 1234, '26 Jan 2010', '10/01/26', '2010-01-26'…\n",
    "- 单词需要用半角空格或者换行来分隔"
   ]
  },
  {
   "cell_type": "markdown",
   "id": "norman-lesbian",
   "metadata": {},
   "source": [
    "## 命名规则\n",
    "- 只能使用半角英文字母、数字、下划线（_）作为数据库、表和列的名称\n",
    "- 名称必须以半角英文字母开头"
   ]
  },
  {
   "cell_type": "markdown",
   "id": "frank-auction",
   "metadata": {},
   "source": [
    "## 数据类型的指定\n",
    "数据库创建的表，所有的列都必须指定数据类型，每一列都不能存储与该列数据类型不符的数据。  \n",
    "四种最基本的数据类型\n",
    "\n",
    "|||\n",
    "|:----:|:---:|\n",
    "|INTEGER 型|\t用来指定存储整数的列的数据类型（数字型），不能存储小数。|\n",
    "|CHAR 型|\t用来存储定长字符串，当列中存储的字符串长度达不到最大长度的时候，使用半角空格进行补足，由于会浪费存储空间，所以一般不使用。|\n",
    "|VARCHAR 型|\t用来存储可变长度字符串，即使字符数未达到最大长度，也不会用半角空格补足。|\n",
    "|DATE 型|\t用来指定存储日期（年月日）的列的数据类型（日期型）。|"
   ]
  },
  {
   "cell_type": "markdown",
   "id": "academic-leonard",
   "metadata": {},
   "source": [
    "## 约束的设置\n",
    "约束是除了数据类型之外，对列中存储的数据进行限制或者追加条件的功能。\n",
    "\n",
    "|||\n",
    "|:----:|:---:|\n",
    "|NOT NULL|\t非空约束，即该列必须输入数据。|\n",
    "|PRIMARY KEY|\t主键约束，代表该列是唯一值，可以通过该列取出特定的行的数据。|\n",
    "\n",
    "### 主键 PRIMARY KEY：唯一标识\n",
    "- 1. 表中的任何列都可以作为主键，只要它满足以下条件：\n",
    "- 2. 任意两行都不具有相同的主键值；\n",
    "- 3. 每 个行都必须具有一个主键值（主键列不允许NULL值）；\n",
    "- 4. 主键列中的值不允许修改或更新；\n",
    "- 5. 主键值不能重用（如果某行从表中删除，它的主键不能赋给以后的新行）。"
   ]
  },
  {
   "cell_type": "markdown",
   "id": "brazilian-algorithm",
   "metadata": {},
   "source": []
  }
 ],
 "metadata": {
  "kernelspec": {
   "display_name": "Python 3",
   "language": "python",
   "name": "python3"
  },
  "language_info": {
   "codemirror_mode": {
    "name": "ipython",
    "version": 3
   },
   "file_extension": ".py",
   "mimetype": "text/x-python",
   "name": "python",
   "nbconvert_exporter": "python",
   "pygments_lexer": "ipython3",
   "version": "3.8.5"
  }
 },
 "nbformat": 4,
 "nbformat_minor": 5
}
