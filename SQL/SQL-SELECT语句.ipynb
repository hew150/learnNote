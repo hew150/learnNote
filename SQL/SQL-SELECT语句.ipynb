{
 "cells": [
  {
   "cell_type": "markdown",
   "id": "novel-template",
   "metadata": {},
   "source": [
    "# SQL-SELECT语句"
   ]
  },
  {
   "cell_type": "markdown",
   "id": "coral-telescope",
   "metadata": {},
   "source": [
    "## select 选取"
   ]
  },
  {
   "cell_type": "markdown",
   "id": "promising-listening",
   "metadata": {},
   "source": [
    "```sql\n",
    "---单列---\n",
    "SELECT <列名>\n",
    "FROM <表名>;\n",
    "---多列---\n",
    "SELECT <列名>,<列名>\n",
    "FROM <表名>;\n",
    "---全列---\n",
    "SELECT *\n",
    "FROM <表名>;\n",
    "```"
   ]
  },
  {
   "cell_type": "markdown",
   "id": "tight-defendant",
   "metadata": {},
   "source": [
    "## ORDRE BY 排序检索"
   ]
  },
  {
   "cell_type": "markdown",
   "id": "friendly-convert",
   "metadata": {},
   "source": [
    "``` sql\n",
    "---单列---\n",
    "SELECT <列名A>\n",
    "FROM <表名>\n",
    "ORDER BY <列名B>;\n",
    "---多列---\n",
    "SELECT <列名A>...\n",
    "FROM <表名>\n",
    "ORDER BY <列名B>,<列名C>;\n",
    "---单列降序---\n",
    "SELECT <列名A>...\n",
    "FROM <表名>\n",
    "ORDER BY <列名B> DESC;\n",
    "---多列降序---\n",
    "SELECT <列名A>...\n",
    "FROM <表名>\n",
    "ORDER BY <列名B> DESC,<列名C> ;\n",
    "```\n",
    "注：\n",
    "- 列B与A可同可不同\n",
    "- order by 需在语句最后\n",
    "- 多列排序按order by 中前后顺序\n",
    "- 多列可以列号替代列名\n",
    "- 默认升序，可降序排序———添加DESC\n"
   ]
  },
  {
   "cell_type": "markdown",
   "id": "laughing-issue",
   "metadata": {},
   "source": [
    "## WHERE 过滤"
   ]
  },
  {
   "cell_type": "markdown",
   "id": "internal-allen",
   "metadata": {},
   "source": [
    "``` sql\n",
    "---单值---\n",
    "SELECT <列名A>...\n",
    "FROM <表名>\n",
    "WHERE <列名B> <操作符> <值>;\n",
    "---复合过滤---\n",
    "SELECT <列名A>...\n",
    "FROM <表名>\n",
    "WHERE <列名B> <操作符> <值> 《复合操作符》 <列名B> <操作符> <值>;\n",
    "---IN过滤---\n",
    "SELECT <列名A>...\n",
    "FROM <表名>\n",
    "WHERE <列名B> IN （<值>，<值>）;\n",
    "---NOT过滤---\n",
    "SELECT <列名A>...\n",
    "FROM <表名>\n",
    "WHERE NOT <列名B> <操作符> <值>;\n",
    "\n",
    "```\n",
    "注：\n",
    "- 操作符：\n",
    " - `=` `<>` `!=` `<` `<=` `!<` `>` `>=` `!>` \n",
    " - 范围检查： `BETWEEN`\n",
    " - 空值检查： `IS NULL` \n",
    "- 复合操作符：\n",
    " - `AND`\n",
    " - `OR`\n",
    "- 复合操作时，`AND`的优先级高于`OR`\n",
    "- `<列名> IN (A,B)`等同于 `<列名> = A OR <列名> = B`\n",
    "- ` NOT`过滤，否定后续过滤规则---mysql中不可用"
   ]
  },
  {
   "cell_type": "markdown",
   "id": "optical-minnesota",
   "metadata": {},
   "source": [
    "## 通配符过滤"
   ]
  },
  {
   "cell_type": "markdown",
   "id": "prerequisite-speed",
   "metadata": {},
   "source": [
    "``` sql\n",
    "---`%`---\n",
    "SELECT <列名A>...\n",
    "FROM <表名>\n",
    "WHERE <列名B> LIKE '%字符%';\n",
    "---`_`---\n",
    "SELECT <列名A>...\n",
    "FROM <表名>\n",
    "WHERE <列名B> LIKE '_字符';\n",
    "---`[ ]`---\n",
    "SELECT <列名A>...\n",
    "FROM <表名>\n",
    "WHERE <列名B> LIKE '[AB]';\n",
    "---`[! ]`---\n",
    "SELECT <列名A>...\n",
    "FROM <表名>\n",
    "WHERE <列名B> LIKE '[!AB]';\n",
    "\n",
    "```\n",
    "通配符类型：\n",
    "- LIKE类型\n",
    " - `%`:任何字符出现任意次数\n",
    " - `_`:任意单个字符\n",
    " - `[ ]`:字符集匹配，单个字符\n",
    " - `[! ]`:否定字符集匹配"
   ]
  },
  {
   "cell_type": "markdown",
   "id": "acting-construction",
   "metadata": {},
   "source": [
    "## 计算字段"
   ]
  },
  {
   "cell_type": "markdown",
   "id": "controversial-trailer",
   "metadata": {},
   "source": [
    "### concatenate 拼接字段：+或||"
   ]
  },
  {
   "cell_type": "markdown",
   "id": "cathedral-youth",
   "metadata": {},
   "source": [
    "```sql\n",
    "---`+`---\n",
    "SELECT <列名A> + '添加项' + <列名B>\n",
    "FROM <表名>\n",
    "ORDER BY <列名C>;\n",
    "---`||`---\n",
    "SELECT <列名A> || '添加项' || <列名B>\n",
    "FROM <表名>\n",
    "ORDER BY <列名C>;\n",
    "输出： <列名A>添加项<列名B>\n",
    "\n",
    "---`去空格`---\n",
    "SELECT <列名A> + '添加项' + RTRIM(<列名B>)\n",
    "FROM <表名>\n",
    "ORDER BY <列名C>;\n",
    "\n",
    "---`别名`---\n",
    "SELECT <列名A> + '添加项' + RTRIM(<列名B>) AS <列名D>\n",
    "FROM <表名>\n",
    "ORDER BY <列名C>;\n",
    "输出到C列，导出列\n",
    "```"
   ]
  },
  {
   "cell_type": "markdown",
   "id": "worth-tracy",
   "metadata": {},
   "source": [
    "### 字段加减乘除"
   ]
  },
  {
   "cell_type": "markdown",
   "id": "horizontal-driver",
   "metadata": {},
   "source": [
    "```sql\n",
    "---`+ - * /`---\n",
    "SELECT <列名A> <运算符> <列名B> AS <列名D>\n",
    "FROM <表名>\n",
    "ORDER BY <列名C>;\n",
    "\n",
    "```"
   ]
  },
  {
   "cell_type": "code",
   "execution_count": null,
   "id": "freelance-element",
   "metadata": {},
   "outputs": [],
   "source": []
  }
 ],
 "metadata": {
  "kernelspec": {
   "display_name": "Python 3",
   "language": "python",
   "name": "python3"
  },
  "language_info": {
   "codemirror_mode": {
    "name": "ipython",
    "version": 3
   },
   "file_extension": ".py",
   "mimetype": "text/x-python",
   "name": "python",
   "nbconvert_exporter": "python",
   "pygments_lexer": "ipython3",
   "version": "3.8.5"
  }
 },
 "nbformat": 4,
 "nbformat_minor": 5
}
