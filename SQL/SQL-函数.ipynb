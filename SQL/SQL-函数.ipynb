{
 "cells": [
  {
   "cell_type": "markdown",
   "id": "equal-scanning",
   "metadata": {},
   "source": [
    "# SQL函数"
   ]
  },
  {
   "cell_type": "markdown",
   "id": "revolutionary-stand",
   "metadata": {},
   "source": [
    "## 文本处理函数"
   ]
  },
  {
   "cell_type": "markdown",
   "id": "adverse-general",
   "metadata": {},
   "source": [
    "| 函数   |        功能|\n",
    "|:--------|:--------------:|\n",
    "|RTRIM()  |去除列值右边空格|\n",
    "|LTRIM()  |去除列值左边空格|\n",
    "|LEFT()   |返回串左边字符|\n",
    "|RIGHT()  |返回串左边字符|\n",
    "|LENGTH() |返回串的长度|\n",
    "|LOWER()  |将串转换为小写|\n",
    "|UPPER()  |将串转换为大写|\n",
    "|SOUNDEX()|返回串的SOUNDEX值|"
   ]
  },
  {
   "cell_type": "markdown",
   "id": "artistic-title",
   "metadata": {},
   "source": [
    "## 时间和日期处理函数"
   ]
  },
  {
   "cell_type": "markdown",
   "id": "vertical-release",
   "metadata": {},
   "source": [
    "注：各数据库软件差异较大\n",
    "MySQL:\n",
    "- `YEAR()`函数提取年份\n",
    "```sql\n",
    "SELECT <列名>\n",
    "FROM  <表名>\n",
    "WHERE YEAR(<列名>)=<值>;\n",
    "```"
   ]
  },
  {
   "cell_type": "markdown",
   "id": "neutral-premises",
   "metadata": {},
   "source": [
    "## 数值处理函数\n",
    "\n",
    "|函数|说明|\n",
    "|:-|:--:|\n",
    "|ABS()|绝对值|\n",
    "|COS()|角度的余弦|\n",
    "|EXP()|数的指数值|\n",
    "|PI()|圆周率|\n",
    "|SIN()|角度正弦|\n",
    "|SQRT()|平方根|\n",
    "|TAN()|角度正切|"
   ]
  },
  {
   "cell_type": "markdown",
   "id": "possible-hearing",
   "metadata": {},
   "source": [
    "## 聚集函数（aggregate function）\n",
    "~~~sql\n",
    "---基础---\n",
    "SELECT <函数>(<列名A>) AS <新列名>\n",
    "FROM <表名>;\n",
    "---组合---\n",
    "SELECT <函数>(<列名A>) AS <新列名>,<函数>(<列名A>) AS <新列名>\n",
    "FROM <表名>;\n",
    "---复合---\n",
    "SELECT <函数>(<列名A>运算符<列名B>) AS <新列名>\n",
    "FROM <表名>;\n",
    "~~~\n",
    "|函数|说明|\n",
    "|:-|:--:|\n",
    "|AVG()|某列平均值|\n",
    "|COUNT()|某列行数|\n",
    "|MAX()|某列最大值|\n",
    "|MIN()|某列最小值|\n",
    "|SUM()|某列之和|\n"
   ]
  },
  {
   "cell_type": "markdown",
   "id": "dated-exclusion",
   "metadata": {},
   "source": [
    "### 只包含不同值的聚集技术\n",
    "```sql\n",
    "---基础---\n",
    "SELECT <函数>(DISTINCT <列名A>) AS <新列名>\n",
    "FROM <表名>;\n",
    "```"
   ]
  },
  {
   "cell_type": "markdown",
   "id": "broad-interpretation",
   "metadata": {},
   "source": [
    "## 分组"
   ]
  },
  {
   "cell_type": "markdown",
   "id": "wired-hanging",
   "metadata": {},
   "source": [
    "```sql\n",
    "SELECT <列A> , <函数>(*) AS <列B>\n",
    "FROM  <表>\n",
    "GROUP BY <列A>;\n",
    "```\n",
    "- GROUP BY子句可以包含任意数目的列。这使得能对分组进行嵌套， 为数据分组提供更细致的控制。\n",
    "- 如果在GROUPBY子句中嵌套了分组，数据将在最后规定的分组上进行汇总。换句话说， 在建立分组时，指定的  所有列都一起计算（所以不能从个别的列取回数据）。\n",
    "- GROUP  BY子句中列出的每个列都必须是检索列或有效的表达式（但不能是聚集函数）。如果在SELECT中使用表达式 ，则必须在GROUP  BY子句中指定相同的表达式。不能使用别名。\n",
    "- 大多数SQL 实现不允许GROUPBY列带有长度可变的数据类型（如文本或备注型字段）。\n",
    "- 除聚集计算语句外， SELECT语句中的每个列都必须在GROUP BY子句中给出。\n",
    "- 如果分组列中具有 NULL值，则NULL将作为一个分组返回。如果列中有多行NULL值，它 们将分为一组。\n"
   ]
  },
  {
   "cell_type": "markdown",
   "id": "integral-electronics",
   "metadata": {},
   "source": [
    "## HAVING 过滤分组\n"
   ]
  },
  {
   "cell_type": "markdown",
   "id": "accomplished-barrel",
   "metadata": {},
   "source": [
    "```sql\n",
    "SELECT <列A> , <函数>(*) AS <列B>\n",
    "FROM  <表>\n",
    "GROUP BY <列A>\n",
    "HAVING <函数> <操作符>  <值>\n",
    "```\n",
    "\n",
    "- `WHERE` 过滤行\n",
    "- `HAVING` 过滤分组"
   ]
  },
  {
   "cell_type": "markdown",
   "id": "inclusive-willow",
   "metadata": {},
   "source": [
    "## SELECT 顺序\n",
    "\n",
    "|子句|说明|是否必须使用|\n",
    "|:-:|:-:|:-:|\n",
    "|SELECT|要返回的列或表达式|是|\n",
    "|FROM|从中检索数据表|否|\n",
    "|WHERE|行级过滤|否|\n",
    "|GROUP BY|分组说明|否|\n",
    "|HVING|组级过滤|否|\n",
    "|ORDER BY|输出排序顺序|否|"
   ]
  },
  {
   "cell_type": "markdown",
   "id": "improved-circus",
   "metadata": {},
   "source": [
    "## 子查询"
   ]
  },
  {
   "cell_type": "markdown",
   "id": "mineral-drilling",
   "metadata": {},
   "source": [
    "```sql \n",
    "SELECT <列A>\n",
    "FROM <表A>\n",
    "WHERE <列B> IN (SELECT <列B> \n",
    "           FROM <表B> \n",
    "           WHERE <列C> <操作符> <值>);\n",
    "----子字段---\n",
    "SELECT <列A>,(SELECT <列B> \n",
    "           FROM <表B> \n",
    "           WHERE <列C> <操作符> <值>)\n",
    "FROM <表A>\n",
    "WHERE <列B> ;\n",
    "```\n"
   ]
  },
  {
   "cell_type": "markdown",
   "id": "disabled-transcript",
   "metadata": {},
   "source": []
  },
  {
   "cell_type": "markdown",
   "id": "aboriginal-announcement",
   "metadata": {},
   "source": []
  },
  {
   "cell_type": "markdown",
   "id": "governmental-enemy",
   "metadata": {},
   "source": []
  },
  {
   "cell_type": "markdown",
   "id": "surface-entry",
   "metadata": {},
   "source": []
  },
  {
   "cell_type": "markdown",
   "id": "bulgarian-experience",
   "metadata": {},
   "source": []
  },
  {
   "cell_type": "markdown",
   "id": "outer-acquisition",
   "metadata": {},
   "source": []
  },
  {
   "cell_type": "markdown",
   "id": "egyptian-adventure",
   "metadata": {},
   "source": []
  },
  {
   "cell_type": "markdown",
   "id": "hundred-chapter",
   "metadata": {},
   "source": []
  }
 ],
 "metadata": {
  "kernelspec": {
   "display_name": "Python 3",
   "language": "python",
   "name": "python3"
  },
  "language_info": {
   "codemirror_mode": {
    "name": "ipython",
    "version": 3
   },
   "file_extension": ".py",
   "mimetype": "text/x-python",
   "name": "python",
   "nbconvert_exporter": "python",
   "pygments_lexer": "ipython3",
   "version": "3.8.5"
  }
 },
 "nbformat": 4,
 "nbformat_minor": 5
}
